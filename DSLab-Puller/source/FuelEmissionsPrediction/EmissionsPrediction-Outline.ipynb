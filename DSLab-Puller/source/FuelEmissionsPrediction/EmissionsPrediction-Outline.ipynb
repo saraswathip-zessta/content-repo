{
 "cells": [
  {
   "cell_type": "markdown",
   "metadata": {
    "nbgrader": {
     "grade": false,
     "grade_id": "cell-327d9e3f808cd533",
     "locked": true,
     "schema_version": 3,
     "solution": false,
     "task": false
    }
   },
   "source": [
    "<div class=\"alert alert-info\">\n",
    "\n",
    "### Description of Data Set\n",
    "\n",
    "#### The fuel consumption dataset was provided by the Canadian Government as part of their open data initiative and is available at open.canada.ca. This dataset has been used in a number of training projects and is a simple, clear and concise dataset that showcases the basic aspects of linear regression. \n",
    "\n",
    "The dataset is available as a csv file FuelConsumption.csv and contains the following features for 1067 new light-duty vehicles for retail sale. \n",
    "\n",
    "#### Sample Table for referece\n",
    "| MODELYEAR | MAKE | MODEL | VEHICLE CLASS | ENGINE SIZE | CYLINDERS | TRANSMISSION | FUEL CONSUMPTION IN CITY (L/100 km) | FUEL CONSUMPTION IN HWY (L/100 km) | FUEL CONSUMPTION IN COMB (L/100 km) | CO2 EMISSIONS (g/km) |\n",
    "|:---------|:-------------|:--------------|:--------------|:---------|:-------------|:--------------|:--------------|:---------|:-------------|:--------------|\n",
    "| 2014 | Acura | ILX | SUV | 4.7 | 6 | A6 | 9.9 | 8.9 | 9.2 | 182 |\n",
    " \n",
    " </div>\n",
    "    \n",
    "The goal of the analysis is to develop a regression model that predicts the target variable (CO2 emissions) using the other features.\n",
    " \n",
    " \n",
    " "
   ]
  },
  {
   "cell_type": "markdown",
   "metadata": {
    "nbgrader": {
     "grade": false,
     "grade_id": "cell-34310874eae3be4d",
     "locked": true,
     "schema_version": 3,
     "solution": false,
     "task": false
    }
   },
   "source": [
    "<div class=\"alert alert-success\">\n",
    "    \n",
    "**Goals**\n",
    "    \n",
    "1. Understand to what extent do the parameters of the car in question predict the CO2 emissions? \n",
    "2. What are the features that are significant predictors of CO2 emissions?\n",
    "3. Can we improve the prediction using non-numerical data such as the make and model?\n",
    "4. Given the prediction model that you come up with, how would you evaluate its performance?\n",
    "\n",
    " </div>\n"
   ]
  },
  {
   "cell_type": "markdown",
   "metadata": {
    "nbgrader": {
     "grade": false,
     "grade_id": "cell-668215df55687ce2",
     "locked": true,
     "schema_version": 3,
     "solution": false,
     "task": false
    }
   },
   "source": [
    "<mark> Please read through the description and the data set carefully and start solving the problem set from here. \n",
    "\n",
    "The data is available as a csv file and is present at the location ./data/FuelConsumption.csv</mark>\n",
    "\n",
    "All the very best! 😀"
   ]
  },
  {
   "cell_type": "markdown",
   "metadata": {
    "nbgrader": {
     "grade": false,
     "grade_id": "cell-ad2a613bb525d3a9",
     "locked": true,
     "schema_version": 3,
     "solution": false,
     "task": false
    }
   },
   "source": [
    "<div class=\"alert alert-info\"> What statistical technique should you be using? First of all, this is a problem that calls for a regression model. A preliminary analysis could start from a regression model. There are three initial steps. \n",
    "    \n",
    "1. Identity which python libraries you will be using in your analysis and import them. \n",
    "    \n",
    "2. Visualize the data in various ways. \n",
    "    \n",
    "3. Decide how to set up a regression model. Again, the initial analysis could start from Simple regression, where one regresses based upon a single selected feature. \n",
    "    \n",
    "4. Analyze the quality of your predicted model.   \n",
    "</div>"
   ]
  },
  {
   "cell_type": "code",
   "execution_count": 171,
   "metadata": {
    "nbgrader": {
     "grade": true,
     "grade_id": "cell-8011dde4bf7b3847",
     "locked": false,
     "points": 0,
     "schema_version": 3,
     "solution": true,
     "task": false
    }
   },
   "outputs": [],
   "source": [
    "import \n"
   ]
  },
  {
   "cell_type": "markdown",
   "metadata": {
    "nbgrader": {
     "grade": false,
     "grade_id": "cell-5b4e0b724bc520ed",
     "locked": true,
     "schema_version": 3,
     "solution": false,
     "task": false
    }
   },
   "source": [
    "<div class=\"alert alert-info\"> Read in the data and perform basic data exploration. </div>"
   ]
  },
  {
   "cell_type": "code",
   "execution_count": null,
   "metadata": {
    "nbgrader": {
     "grade": true,
     "grade_id": "cell-336b008c20fc7c32",
     "locked": false,
     "points": 0,
     "schema_version": 3,
     "solution": true,
     "task": false
    }
   },
   "outputs": [],
   "source": []
  },
  {
   "cell_type": "markdown",
   "metadata": {
    "nbgrader": {
     "grade": false,
     "grade_id": "cell-e5ca84ea3d0b2d8b",
     "locked": true,
     "schema_version": 3,
     "solution": false,
     "task": false
    }
   },
   "source": [
    "<div class=\"alert alert-info\">\n",
    "\n",
    "**Single regression Analysis**\n",
    "\n",
    "Plot the target feature (CO2 emissions) against individual features. Look at the correlation \n",
    "between three selected features and CO2 emissions. \n",
    "\n",
    "</div>"
   ]
  },
  {
   "cell_type": "code",
   "execution_count": null,
   "metadata": {
    "nbgrader": {
     "grade": true,
     "grade_id": "cell-4c1df5cccbe85d67",
     "locked": false,
     "points": 0,
     "schema_version": 3,
     "solution": true,
     "task": false
    },
    "scrolled": true
   },
   "outputs": [],
   "source": []
  },
  {
   "cell_type": "markdown",
   "metadata": {
    "nbgrader": {
     "grade": false,
     "grade_id": "cell-85ab301154b6e2ca",
     "locked": true,
     "schema_version": 3,
     "solution": false,
     "task": false
    }
   },
   "source": [
    "<div class=\"alert alert-info\"> \n",
    "    \n",
    "**Compute the correlation coefficients between your three selected features and CO2 emissions.**\n",
    "\n",
    "</div>"
   ]
  },
  {
   "cell_type": "code",
   "execution_count": null,
   "metadata": {
    "nbgrader": {
     "grade": true,
     "grade_id": "cell-08b7f95b4bb68c07",
     "locked": false,
     "points": 0,
     "schema_version": 3,
     "solution": true,
     "task": false
    }
   },
   "outputs": [],
   "source": []
  },
  {
   "cell_type": "markdown",
   "metadata": {
    "nbgrader": {
     "grade": false,
     "grade_id": "cell-aa0e33dea9da9d4b",
     "locked": true,
     "schema_version": 3,
     "solution": false,
     "task": false
    }
   },
   "source": [
    "<div class=\"alert alert-info\">     \n",
    "\n",
    "**Perform a test-train split.**\n",
    "    \n",
    "Typically one trains the model on 80% of the data and test it on the remainder. After performing this,  run a single regression between the engine size and the CO2 emissions.\n",
    "    \n",
    "   \n",
    "</div>"
   ]
  },
  {
   "cell_type": "code",
   "execution_count": null,
   "metadata": {
    "nbgrader": {
     "grade": true,
     "grade_id": "cell-f65a9c9c09b2eb9a",
     "locked": false,
     "points": 0,
     "schema_version": 3,
     "solution": true,
     "task": false
    }
   },
   "outputs": [],
   "source": []
  },
  {
   "cell_type": "markdown",
   "metadata": {
    "nbgrader": {
     "grade": false,
     "grade_id": "cell-eb73068823040508",
     "locked": true,
     "schema_version": 3,
     "solution": false,
     "task": false
    }
   },
   "source": [
    "<div class=\"alert alert-info\">     \n",
    "\n",
    "**Rerun the correlation analysis with the split data.**"
   ]
  },
  {
   "cell_type": "code",
   "execution_count": null,
   "metadata": {
    "nbgrader": {
     "grade": true,
     "grade_id": "cell-3b07e22a6b035a23",
     "locked": false,
     "points": 0,
     "schema_version": 3,
     "solution": true,
     "task": false
    }
   },
   "outputs": [],
   "source": []
  },
  {
   "cell_type": "markdown",
   "metadata": {
    "nbgrader": {
     "grade": false,
     "grade_id": "cell-45e578fac8def6d4",
     "locked": true,
     "schema_version": 3,
     "solution": false,
     "task": false
    }
   },
   "source": [
    "<div class=\"alert alert-info\">     \n",
    "\n",
    "\n",
    "**Create a Simple Regression Model**\n",
    "\n"
   ]
  },
  {
   "cell_type": "code",
   "execution_count": null,
   "metadata": {
    "nbgrader": {
     "grade": true,
     "grade_id": "cell-efc7ad14fecfbe27",
     "locked": false,
     "points": 0,
     "schema_version": 3,
     "solution": true,
     "task": false
    }
   },
   "outputs": [],
   "source": []
  },
  {
   "cell_type": "markdown",
   "metadata": {
    "nbgrader": {
     "grade": false,
     "grade_id": "cell-822a8fa3166b6223",
     "locked": true,
     "schema_version": 3,
     "solution": false,
     "task": false
    }
   },
   "source": [
    "<div class=\"alert alert-info\">     \n",
    "\n",
    "\n",
    "**Print the the value of the regression coefficients:**\n"
   ]
  },
  {
   "cell_type": "code",
   "execution_count": null,
   "metadata": {
    "nbgrader": {
     "grade": true,
     "grade_id": "cell-8aa0bf3f6ec727eb",
     "locked": false,
     "points": 0,
     "schema_version": 3,
     "solution": true,
     "task": false
    }
   },
   "outputs": [],
   "source": []
  },
  {
   "cell_type": "markdown",
   "metadata": {
    "nbgrader": {
     "grade": false,
     "grade_id": "cell-8abae8f103a126b6",
     "locked": true,
     "schema_version": 3,
     "solution": false,
     "task": false
    }
   },
   "source": [
    "<div class=\"alert alert-info\">     \n",
    "\n",
    "\n",
    "**Plot the outputs.**"
   ]
  },
  {
   "cell_type": "code",
   "execution_count": null,
   "metadata": {
    "nbgrader": {
     "grade": true,
     "grade_id": "cell-7167924c0c1b0e2d",
     "locked": false,
     "points": 0,
     "schema_version": 3,
     "solution": true,
     "task": false
    }
   },
   "outputs": [],
   "source": []
  },
  {
   "cell_type": "markdown",
   "metadata": {
    "nbgrader": {
     "grade": false,
     "grade_id": "cell-f3001734e5b9ca34",
     "locked": true,
     "schema_version": 3,
     "solution": false,
     "task": false
    }
   },
   "source": [
    "<div class=\"alert alert-info\">     \n",
    "\n",
    "\n",
    "**Model Evaluation**\n",
    "\n",
    "* Compare the actual values and predicted values to calculate the accuracy of a regression model. \n",
    "    \n",
    "* There are different model evaluation metrics for inference problems, including for regression. We use MSE (Mean Squared Error) here to calculate the accuracy of our model based on the test set, but compute two other error values as well for purposes of demonstration. The following are some basic evlaution metrics for linear regression. \n",
    "    \n",
    "    - The Mean absolute error is the mean of the absolute value of the errors. This is the easiest of the various metrics to understand.\n",
    "    - The Mean Squared Error is the mean of the squared error. It is more popular than Mean absolute error because the focus is geared more towards large errors. This is due to the squared term exponentially increasing larger errors in comparison to smaller ones.\n",
    "    - The Root Mean Squared Error is the square root of Mean Squared Error.\n",
    "    - The R-squared is not strictly speaking an error metric. It is however a popular metric for accuracy of the model. It represents how close the data are to the fitted regression line. The higher the R-squared, the better the model fits the data. The best possible score is 1 and can be negative if the model is a poor fit.\n",
    "    \n",
    "**Evaluate the model and print out the results.**"
   ]
  },
  {
   "cell_type": "code",
   "execution_count": null,
   "metadata": {
    "nbgrader": {
     "grade": true,
     "grade_id": "cell-78946d94fa46470d",
     "locked": false,
     "points": 0,
     "schema_version": 3,
     "solution": true,
     "task": false
    }
   },
   "outputs": [],
   "source": []
  },
  {
   "cell_type": "markdown",
   "metadata": {
    "nbgrader": {
     "grade": false,
     "grade_id": "cell-b27fa9b4ff321b17",
     "locked": true,
     "schema_version": 3,
     "solution": false,
     "task": false
    }
   },
   "source": [
    "<div class=\"alert alert-danger\">\n",
    "\n",
    "**Create a Multiple Regression Model**\n",
    "    \n",
    "Note that there are multiple variables that predict the CO2Emission. When more than one independent variable is present, we ought to instead use multiple linear regression. For example, predicting CO2Emission using FUELCONSUMPTION_COMB, EngineSize and Cylinders of cars. Multiple linear regression is an extension of the simple linear regression model from above."
   ]
  },
  {
   "cell_type": "markdown",
   "metadata": {
    "nbgrader": {
     "grade": true,
     "grade_id": "cell-c5d7a544bb81743b",
     "locked": false,
     "points": 0,
     "schema_version": 3,
     "solution": true,
     "task": false
    }
   },
   "source": [
    "<div class=\"alert alert-info\">     \n",
    "\n",
    "\n",
    "**Model for multiple regression**\n",
    "    \n",
    "Perform a regression on the three parameters : Engine Size, Number of Cylinders and the Fuel Consumption. There will be four regression parameters given that we are regressing on three parameters.\n"
   ]
  },
  {
   "cell_type": "code",
   "execution_count": null,
   "metadata": {
    "nbgrader": {
     "grade": true,
     "grade_id": "cell-48157b914ced9c03",
     "locked": false,
     "points": 0,
     "schema_version": 3,
     "solution": true,
     "task": false
    }
   },
   "outputs": [],
   "source": []
  },
  {
   "cell_type": "markdown",
   "metadata": {
    "nbgrader": {
     "grade": false,
     "grade_id": "cell-0ff3b30b2fd95a65",
     "locked": true,
     "schema_version": 3,
     "solution": false,
     "task": false
    }
   },
   "source": [
    "<div class=\"alert alert-info\">     \n",
    "\n",
    "\n",
    "**Model evaluation**\n",
    "    \n",
    "Compute the three error metrics (Mean Averaged Error, Mean Squared Error and the R-Squared error) as we did for Simple regression. "
   ]
  },
  {
   "cell_type": "code",
   "execution_count": null,
   "metadata": {
    "nbgrader": {
     "grade": true,
     "grade_id": "cell-382f2fc6913be8bf",
     "locked": false,
     "points": 0,
     "schema_version": 3,
     "solution": true,
     "task": false
    }
   },
   "outputs": [],
   "source": []
  },
  {
   "cell_type": "markdown",
   "metadata": {
    "nbgrader": {
     "grade": false,
     "grade_id": "cell-b6489805a4e6eaa0",
     "locked": true,
     "schema_version": 3,
     "solution": false,
     "task": false
    }
   },
   "source": [
    "<div class=\"alert alert-info\">     \n",
    "\n",
    "\n",
    "**Enhanced model for multiple regression**\n",
    "    \n",
    "Perform a regression  with a fourth parameter : The Highway Fuel consumption. There will now be five regression parameters given that we are regressing on four variables. "
   ]
  },
  {
   "cell_type": "code",
   "execution_count": null,
   "metadata": {
    "nbgrader": {
     "grade": true,
     "grade_id": "cell-a7ac73133d6ba64c",
     "locked": false,
     "points": 0,
     "schema_version": 3,
     "solution": true,
     "task": false
    }
   },
   "outputs": [],
   "source": []
  },
  {
   "cell_type": "markdown",
   "metadata": {
    "nbgrader": {
     "grade": false,
     "grade_id": "cell-335c9f7f37dc7531",
     "locked": true,
     "schema_version": 3,
     "solution": false,
     "task": false
    }
   },
   "source": [
    "<div class=\"alert alert-info\">     \n",
    "\n",
    "\n",
    "**Evaluation of Enhanced model**\n",
    "    \n",
    "Compute the three error metrics (Mean Averaged Error, Mean Squared Error and the R-Squared error) as we did for Simple regression. "
   ]
  },
  {
   "cell_type": "code",
   "execution_count": null,
   "metadata": {
    "nbgrader": {
     "grade": true,
     "grade_id": "cell-e8ad1c9afa205236",
     "locked": false,
     "points": 0,
     "schema_version": 3,
     "solution": true,
     "task": false
    }
   },
   "outputs": [],
   "source": []
  },
  {
   "cell_type": "markdown",
   "metadata": {
    "nbgrader": {
     "grade": false,
     "grade_id": "cell-ce2634d307ac5b43",
     "locked": true,
     "schema_version": 3,
     "solution": false,
     "task": false
    }
   },
   "source": [
    "<div class=\"alert alert-info\">     \n",
    "\n",
    "\n",
    "**Analysis**\n",
    "    \n",
    "1. Is multiple regression helpful?\n",
    "2. Are the results useful?\n",
    "3. Are they interpretable?\n",
    "4. How do you think you can improve the prediction model?\n",
    "5. How effective do you think a linear regression model can be for this data set?"
   ]
  },
  {
   "cell_type": "code",
   "execution_count": null,
   "metadata": {
    "nbgrader": {
     "grade": true,
     "grade_id": "cell-49c2b4ebbd7c75a5",
     "locked": false,
     "points": 0,
     "schema_version": 3,
     "solution": true,
     "task": false
    }
   },
   "outputs": [],
   "source": []
  }
 ],
 "metadata": {
  "celltoolbar": "Create Assignment",
  "kernelspec": {
   "display_name": "Python 3",
   "language": "python",
   "name": "python3"
  },
  "language_info": {
   "codemirror_mode": {
    "name": "ipython",
    "version": 3
   },
   "file_extension": ".py",
   "mimetype": "text/x-python",
   "name": "python",
   "nbconvert_exporter": "python",
   "pygments_lexer": "ipython3",
   "version": "3.7.4"
  }
 },
 "nbformat": 4,
 "nbformat_minor": 4
}
